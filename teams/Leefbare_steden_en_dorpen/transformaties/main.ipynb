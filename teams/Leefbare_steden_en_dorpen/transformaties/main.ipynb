{
 "cells": [
  {
   "cell_type": "code",
   "execution_count": 65,
   "metadata": {},
   "outputs": [
    {
     "ename": "ImportError",
     "evalue": "cannot import name 'transformeer_woononderzoek_nederland' from 'preprocessing' (c:\\Users\\damoiseauxjmb\\OneDrive - Provincie Limburg\\Documenten\\Python\\indicatorenplan-limburg\\teams\\Leefbare_steden_en_dorpen\\transformaties\\preprocessing.py)",
     "output_type": "error",
     "traceback": [
      "\u001b[1;31m---------------------------------------------------------------------------\u001b[0m",
      "\u001b[1;31mImportError\u001b[0m                               Traceback (most recent call last)",
      "Cell \u001b[1;32mIn[65], line 10\u001b[0m\n\u001b[0;32m      7\u001b[0m sys\u001b[38;5;241m.\u001b[39mpath\u001b[38;5;241m.\u001b[39mappend(root_dir)\n\u001b[0;32m      9\u001b[0m \u001b[38;5;66;03m# Importeer lokale modules\u001b[39;00m\n\u001b[1;32m---> 10\u001b[0m \u001b[38;5;28;01mfrom\u001b[39;00m\u001b[38;5;250m \u001b[39m\u001b[38;5;21;01mpreprocessing\u001b[39;00m\u001b[38;5;250m \u001b[39m\u001b[38;5;28;01mimport\u001b[39;00m (\n\u001b[0;32m     11\u001b[0m     transformeer_woononderzoek_nederland,\n\u001b[0;32m     12\u001b[0m     transformeer_leefbarometer_data,\n\u001b[0;32m     13\u001b[0m     transformeer_cbs_data,\n\u001b[0;32m     14\u001b[0m     laad_woningtekort_data,\n\u001b[0;32m     15\u001b[0m     laad_data_invoerapplicatie\n\u001b[0;32m     16\u001b[0m )\n\u001b[0;32m     17\u001b[0m \u001b[38;5;28;01mfrom\u001b[39;00m\u001b[38;5;250m \u001b[39m\u001b[38;5;21;01mapi_scripts\u001b[39;00m\u001b[38;5;21;01m.\u001b[39;00m\u001b[38;5;21;01mapi_utils\u001b[39;00m\u001b[38;5;250m \u001b[39m\u001b[38;5;28;01mimport\u001b[39;00m download_cbs_data\n",
      "\u001b[1;31mImportError\u001b[0m: cannot import name 'transformeer_woononderzoek_nederland' from 'preprocessing' (c:\\Users\\damoiseauxjmb\\OneDrive - Provincie Limburg\\Documenten\\Python\\indicatorenplan-limburg\\teams\\Leefbare_steden_en_dorpen\\transformaties\\preprocessing.py)"
     ]
    }
   ],
   "source": [
    "import pandas as pd\n",
    "import os\n",
    "import sys\n",
    "\n",
    "# Ga drie niveaus omhoog vanuit de huidige submap\n",
    "root_dir = os.path.abspath(os.path.join(os.getcwd(), \"../../../\"))\n",
    "sys.path.append(root_dir)\n",
    "\n",
    "# Importeer lokale modules\n",
    "from preprocessing import (\n",
    "    transformeer_woononderzoek_nederland,\n",
    "    transformeer_leefbarometer_data,\n",
    "    transformeer_cbs_data,\n",
    "    laad_woningtekort_data,\n",
    "    laad_data_invoerapplicatie\n",
    ")\n",
    "from api_scripts.api_utils import download_cbs_data"
   ]
  },
  {
   "cell_type": "code",
   "execution_count": null,
   "metadata": {},
   "outputs": [],
   "source": [
    "# -----------------------------------------------------------------------------\n",
    "# Instellingen en mappings\n",
    "# -----------------------------------------------------------------------------\n",
    "# Mapping van regio's\n",
    "# Dit kan later verbeterd worden door alle buurt-wijk-gem-corop-prov mappings centraal op te slaan\n",
    "\n",
    "regio_mapping = {\n",
    "    \"Nederland\": \"nl00\",\n",
    "    \"Noord-Limburg\": \"cr37\",\n",
    "    \"Midden-Limburg\": \"cr38\",\n",
    "    \"Zuid-Limburg\": \"cr39\",\n",
    "}"
   ]
  },
  {
   "cell_type": "code",
   "execution_count": null,
   "metadata": {},
   "outputs": [],
   "source": [
    "# -----------------------------------------------------------------------------\n",
    "# Initialiseer de indicator dictionary\n",
    "# -----------------------------------------------------------------------------\n",
    "# Hierin worden indicatornamen gekoppeld aan hun corresponderende DataFrames\n",
    "\n",
    "indicatoren_dict = {}"
   ]
  },
  {
   "cell_type": "code",
   "execution_count": null,
   "metadata": {},
   "outputs": [
    {
     "name": "stdout",
     "output_type": "stream",
     "text": [
      "Processing indicator: MO_11a\n"
     ]
    },
    {
     "name": "stderr",
     "output_type": "stream",
     "text": [
      "c:\\Users\\damoiseauxjmb\\AppData\\Local\\Programs\\Python\\Python313\\Lib\\site-packages\\openpyxl\\styles\\stylesheet.py:237: UserWarning: Workbook contains no default style, apply openpyxl's default\n",
      "  warn(\"Workbook contains no default style, apply openpyxl's default\")\n",
      "c:\\Users\\damoiseauxjmb\\AppData\\Local\\Programs\\Python\\Python313\\Lib\\site-packages\\openpyxl\\styles\\stylesheet.py:237: UserWarning: Workbook contains no default style, apply openpyxl's default\n",
      "  warn(\"Workbook contains no default style, apply openpyxl's default\")\n"
     ]
    }
   ],
   "source": [
    "# -----------------------------------------------------------------------------\n",
    "# Indicator MO_11a: Woningtekort Data\n",
    "# -----------------------------------------------------------------------------\n",
    "print(\"Processing indicator: MO_11a\")\n",
    "df_mo_11a = laad_woningtekort_data(regio_mapping)\n",
    "\n",
    "# Toevoegen aan de indicator dictionary\n",
    "indicatoren_dict[\"MO_11a\"] = df_mo_11a[[\"geoitem\", \"geolevel\", \"df_mo_11a\", \"period\"]]"
   ]
  },
  {
   "cell_type": "code",
   "execution_count": null,
   "metadata": {},
   "outputs": [
    {
     "name": "stdout",
     "output_type": "stream",
     "text": [
      "Processing indicator: MO_11b\n"
     ]
    },
    {
     "data": {
      "text/html": [
       "<div>\n",
       "<style scoped>\n",
       "    .dataframe tbody tr th:only-of-type {\n",
       "        vertical-align: middle;\n",
       "    }\n",
       "\n",
       "    .dataframe tbody tr th {\n",
       "        vertical-align: top;\n",
       "    }\n",
       "\n",
       "    .dataframe thead th {\n",
       "        text-align: right;\n",
       "    }\n",
       "</style>\n",
       "<table border=\"1\" class=\"dataframe\">\n",
       "  <thead>\n",
       "    <tr style=\"text-align: right;\">\n",
       "      <th></th>\n",
       "      <th>geoitem</th>\n",
       "      <th>MO_11b</th>\n",
       "      <th>period</th>\n",
       "      <th>dim_eigendom_1</th>\n",
       "      <th>dim_tevredenheid_0</th>\n",
       "      <th>geolevel</th>\n",
       "    </tr>\n",
       "  </thead>\n",
       "  <tbody>\n",
       "    <tr>\n",
       "      <th>0</th>\n",
       "      <td>cr37</td>\n",
       "      <td>48</td>\n",
       "      <td>2009</td>\n",
       "      <td>2</td>\n",
       "      <td>zeer_tevreden</td>\n",
       "      <td>corop_id</td>\n",
       "    </tr>\n",
       "    <tr>\n",
       "      <th>1</th>\n",
       "      <td>cr38</td>\n",
       "      <td>44</td>\n",
       "      <td>2009</td>\n",
       "      <td>2</td>\n",
       "      <td>zeer_tevreden</td>\n",
       "      <td>corop_id</td>\n",
       "    </tr>\n",
       "    <tr>\n",
       "      <th>2</th>\n",
       "      <td>cr39</td>\n",
       "      <td>38</td>\n",
       "      <td>2009</td>\n",
       "      <td>2</td>\n",
       "      <td>zeer_tevreden</td>\n",
       "      <td>corop_id</td>\n",
       "    </tr>\n",
       "    <tr>\n",
       "      <th>3</th>\n",
       "      <td>cr37</td>\n",
       "      <td>22</td>\n",
       "      <td>2009</td>\n",
       "      <td>2</td>\n",
       "      <td>tevreden</td>\n",
       "      <td>corop_id</td>\n",
       "    </tr>\n",
       "    <tr>\n",
       "      <th>4</th>\n",
       "      <td>cr38</td>\n",
       "      <td>27</td>\n",
       "      <td>2009</td>\n",
       "      <td>2</td>\n",
       "      <td>tevreden</td>\n",
       "      <td>corop_id</td>\n",
       "    </tr>\n",
       "    <tr>\n",
       "      <th>...</th>\n",
       "      <td>...</td>\n",
       "      <td>...</td>\n",
       "      <td>...</td>\n",
       "      <td>...</td>\n",
       "      <td>...</td>\n",
       "      <td>...</td>\n",
       "    </tr>\n",
       "    <tr>\n",
       "      <th>70</th>\n",
       "      <td>nl00</td>\n",
       "      <td>3</td>\n",
       "      <td>2021</td>\n",
       "      <td>12</td>\n",
       "      <td>zeer_tevreden</td>\n",
       "      <td>nederland</td>\n",
       "    </tr>\n",
       "    <tr>\n",
       "      <th>71</th>\n",
       "      <td>nl00</td>\n",
       "      <td>5</td>\n",
       "      <td>2021</td>\n",
       "      <td>12</td>\n",
       "      <td>tevreden</td>\n",
       "      <td>nederland</td>\n",
       "    </tr>\n",
       "    <tr>\n",
       "      <th>72</th>\n",
       "      <td>nl00</td>\n",
       "      <td>2</td>\n",
       "      <td>2021</td>\n",
       "      <td>12</td>\n",
       "      <td>niet_tevreden_maar_ook_niet_ontevreden</td>\n",
       "      <td>nederland</td>\n",
       "    </tr>\n",
       "    <tr>\n",
       "      <th>73</th>\n",
       "      <td>nl00</td>\n",
       "      <td>1</td>\n",
       "      <td>2021</td>\n",
       "      <td>12</td>\n",
       "      <td>ontevreden</td>\n",
       "      <td>nederland</td>\n",
       "    </tr>\n",
       "    <tr>\n",
       "      <th>74</th>\n",
       "      <td>nl00</td>\n",
       "      <td>0</td>\n",
       "      <td>2021</td>\n",
       "      <td>12</td>\n",
       "      <td>zeer_ontevreden</td>\n",
       "      <td>nederland</td>\n",
       "    </tr>\n",
       "  </tbody>\n",
       "</table>\n",
       "<p>300 rows × 6 columns</p>\n",
       "</div>"
      ],
      "text/plain": [
       "   geoitem  MO_11b period dim_eigendom_1  \\\n",
       "0     cr37      48   2009              2   \n",
       "1     cr38      44   2009              2   \n",
       "2     cr39      38   2009              2   \n",
       "3     cr37      22   2009              2   \n",
       "4     cr38      27   2009              2   \n",
       "..     ...     ...    ...            ...   \n",
       "70    nl00       3   2021             12   \n",
       "71    nl00       5   2021             12   \n",
       "72    nl00       2   2021             12   \n",
       "73    nl00       1   2021             12   \n",
       "74    nl00       0   2021             12   \n",
       "\n",
       "                        dim_tevredenheid_0   geolevel  \n",
       "0                            zeer_tevreden   corop_id  \n",
       "1                            zeer_tevreden   corop_id  \n",
       "2                            zeer_tevreden   corop_id  \n",
       "3                                 tevreden   corop_id  \n",
       "4                                 tevreden   corop_id  \n",
       "..                                     ...        ...  \n",
       "70                           zeer_tevreden  nederland  \n",
       "71                                tevreden  nederland  \n",
       "72  niet_tevreden_maar_ook_niet_ontevreden  nederland  \n",
       "73                              ontevreden  nederland  \n",
       "74                         zeer_ontevreden  nederland  \n",
       "\n",
       "[300 rows x 6 columns]"
      ]
     },
     "execution_count": 59,
     "metadata": {},
     "output_type": "execute_result"
    }
   ],
   "source": [
    "# -----------------------------------------------------------------------------\n",
    "# Indicator MO_11b: Woononderzoek Nederland en Limburg\n",
    "# -----------------------------------------------------------------------------\n",
    "print(\"Processing indicator: MO_11b\")\n",
    "df_woonderzoek_limburg = pd.read_csv(\"../../../data/Woononderzoek_nederland/Tevreden met woning - Corop-gebieden van Limburg.csv\", sep=';')\n",
    "df_woonderzoek_nederland = pd.read_csv(\"../../../data/Woononderzoek_nederland/Tevreden met woning - Nederland.csv\", sep=';')\n",
    "\n",
    "# Preprocessing\n",
    "df_woonderzoek_limburg = transformeer_woononderzoek_nederland(df_woonderzoek_limburg, geolevel='corop_id')\n",
    "df_woonderzoek_nederland = transformeer_woononderzoek_nederland(df_woonderzoek_nederland, geolevel='nederland')\n",
    "\n",
    "# Combineer en verwerk \n",
    "df_mo_11b = pd.concat([df_woonderzoek_limburg, df_woonderzoek_nederland])\n",
    "\n",
    "# # Toevoegen aan de indicator dictionary\n",
    "indicatoren_dict[\"MO_11b\"] = df_mo_11b"
   ]
  },
  {
   "cell_type": "code",
   "execution_count": null,
   "metadata": {},
   "outputs": [
    {
     "name": "stdout",
     "output_type": "stream",
     "text": [
      "Processing indicators: MO_10a, D_39a, D_39aa\n"
     ]
    }
   ],
   "source": [
    "# -----------------------------------------------------------------------------\n",
    "# Indicator MO_10a, D_39a, D_39aa: Leefbarometer Data\n",
    "# -----------------------------------------------------------------------------\n",
    "print(\"Processing indicators: MO_10a, D_39a, D_39aa\")\n",
    "relevante_jaren = [2014, 2018, 2020, 2022]\n",
    "column_renames = {\n",
    "    \"lbm\": \"MO_10a\",\n",
    "    \"fys\": \"D_39a\",\n",
    "    \"vrz\": \"D_39aa\",\n",
    "    \"COROP_NAAM\": \"geoitem\",\n",
    "    \"jaar\": \"period\",\n",
    "}\n",
    "\n",
    "# Data verwerken\n",
    "df_leefbarometer = transformeer_leefbarometer_data(\n",
    "    input_bestand_pad=\"../../../data/Leefbarometer/Leefbaarometer-scores buurten 2002-2022.csv\",\n",
    "    bu_code_correcties_pad=\"../../../data/Buurtcodes/bu_code_correcties.xlsx\",\n",
    "    limburg_buurten_pad=\"../../../data/Buurtcodes/BU_WK_GM_codes.xls\",\n",
    "    relevante_jaren=relevante_jaren,\n",
    "    column_renames=column_renames,\n",
    "    regio_mapping=regio_mapping,\n",
    ")\n",
    "\n",
    "# Los toevoegen van indicatoren aan de dictionary\n",
    "for indicator_code in [\"MO_10a\", \"D_39a\", \"D_39aa\"]:\n",
    "    indicatoren_dict[indicator_code] = df_leefbarometer[[\"geoitem\", \"geolevel\", \"period\", indicator_code]]"
   ]
  },
  {
   "cell_type": "code",
   "execution_count": null,
   "metadata": {},
   "outputs": [
    {
     "name": "stdout",
     "output_type": "stream",
     "text": [
      "Dataset met tabelcode '70072NED' succesvol opgehaald.\n",
      "Nederland-rijen apart opgeslagen: 30 rijen.\n",
      "RegioS opgeschoond.\n",
      "Data gefilterd op geolevel 'cr': 1200 rijen over.\n",
      "Geolevel-suffix '(cr)' verwijderd.\n",
      "Data gefilterd op Limburgse COROP-regio's: 90 rijen over.\n",
      "RegioS-namen vertaald naar codes.\n",
      "Nederland-rijen toegevoegd aan de dataset: totaal 120 rijen.\n"
     ]
    }
   ],
   "source": [
    "# -----------------------------------------------------------------------------\n",
    "# Indicator MO_12d: CBS Statline\n",
    "# -----------------------------------------------------------------------------\n",
    "\n",
    "# Download de CBS data: Limburgse COROP-regio's\n",
    "df_mo_12d = download_cbs_data(\n",
    "    table_code='70072NED', \n",
    "    geolevel='cr', \n",
    "    filter_limburg=True, \n",
    "    convert_to_geolevel_codes=True,\n",
    "    keep_nl_data=True\n",
    ")\n",
    "\n",
    "# Transformeer de data\n",
    "df_mo_12d = transformeer_cbs_data(df_mo_12d, geolevel='corop_id')\n",
    "\n",
    "# Toevoegen aan de indicator dictionary\n",
    "indicatoren_dict['MO_12d'] = df_mo_12d"
   ]
  },
  {
   "cell_type": "code",
   "execution_count": null,
   "metadata": {},
   "outputs": [
    {
     "name": "stdout",
     "output_type": "stream",
     "text": [
      "Processing indicators: R_118a, R_119a, R_120a, R_121a, R_122a, R_124a\n"
     ]
    }
   ],
   "source": [
    "# -----------------------------------------------------------------------------\n",
    "# Indicators R_118a, R_119a, R_120a, R_121a, R_122a, R_124a: Data Invoerapplicatie\n",
    "# -----------------------------------------------------------------------------\n",
    "print(\"Processing indicators: R_118a, R_119a, R_120a, R_121a, R_122a, R_124a\")\n",
    "df_invoerapplicatie = laad_data_invoerapplicatie(\n",
    "    bron_bestand=\"../../../data/Invoerapplicatie/Invoerapplicatie Leefbare steden en dorpen.xlsx\"\n",
    ")\n",
    "\n",
    "# Los toevoegen van indicatoren aan de dictionary\n",
    "for indicator_code in [\"R_118a\", \"R_119a\", \"R_120a\", \"R_121a\", \"R_122a\", \"R_124a\"]:\n",
    "    # Verwijder rijen met missende waarden in de geselecteerde kolommen\n",
    "    filtered_df = df_invoerapplicatie[[\"geoitem\", \"geolevel\", \"period\", indicator_code]].dropna()\n",
    "\n",
    "    # Controleer of het gefilterde DataFrame niet leeg is\n",
    "    if not filtered_df.empty:\n",
    "        # Voeg het gefilterde DataFrame toe aan de dictionary\n",
    "        indicatoren_dict[indicator_code] = filtered_df\n"
   ]
  },
  {
   "cell_type": "code",
   "execution_count": null,
   "metadata": {},
   "outputs": [
    {
     "name": "stdout",
     "output_type": "stream",
     "text": [
      "\n",
      "Controle van indicator dictionary:\n",
      "Indicator MO_11a, bevat een DataFrame met shape (21, 4)\n",
      "Indicator MO_11b, bevat een DataFrame met shape (300, 6)\n",
      "Indicator MO_10a, bevat een DataFrame met shape (12, 4)\n",
      "Indicator D_39a, bevat een DataFrame met shape (12, 4)\n",
      "Indicator D_39aa, bevat een DataFrame met shape (12, 4)\n",
      "Indicator MO_12d, bevat een DataFrame met shape (120, 4)\n",
      "Indicator R_118a, bevat een DataFrame met shape (1, 4)\n",
      "Indicator R_119a, bevat een DataFrame met shape (1, 4)\n",
      "Indicator R_120a, bevat een DataFrame met shape (1, 4)\n",
      "Indicator R_121a, bevat een DataFrame met shape (1, 4)\n",
      "Indicator R_122a, bevat een DataFrame met shape (1, 4)\n",
      "Indicator R_124a, bevat een DataFrame met shape (1, 4)\n"
     ]
    }
   ],
   "source": [
    "# -----------------------------------------------------------------------------\n",
    "# Controleer de inhoud van de dictionary\n",
    "# -----------------------------------------------------------------------------\n",
    "print(\"\\nControle van indicator dictionary:\")\n",
    "for key, value in indicatoren_dict.items():\n",
    "    if isinstance(value, pd.DataFrame):\n",
    "        print(f\"Indicator {key}, bevat een DataFrame met shape {value.shape}\")\n",
    "    else:\n",
    "        print(f\"Waarschuwing: Indicator {key} bevat geen geldig DataFrame\")"
   ]
  },
  {
   "cell_type": "code",
   "execution_count": null,
   "metadata": {},
   "outputs": [
    {
     "name": "stdout",
     "output_type": "stream",
     "text": [
      "\n",
      "Data wegschrijven naar bestanden...\n",
      "MO_11a opgeslagen als: ../../../Publicatie_bestanden/Leefbare_steden_en_dorpen\\MO_11a.csv\n",
      "MO_11b opgeslagen als: ../../../Publicatie_bestanden/Leefbare_steden_en_dorpen\\MO_11b.csv\n",
      "MO_10a opgeslagen als: ../../../Publicatie_bestanden/Leefbare_steden_en_dorpen\\MO_10a.csv\n",
      "D_39a opgeslagen als: ../../../Publicatie_bestanden/Leefbare_steden_en_dorpen\\D_39a.csv\n",
      "D_39aa opgeslagen als: ../../../Publicatie_bestanden/Leefbare_steden_en_dorpen\\D_39aa.csv\n",
      "MO_12d opgeslagen als: ../../../Publicatie_bestanden/Leefbare_steden_en_dorpen\\MO_12d.csv\n",
      "R_118a opgeslagen als: ../../../Publicatie_bestanden/Leefbare_steden_en_dorpen\\R_118a.csv\n",
      "R_119a opgeslagen als: ../../../Publicatie_bestanden/Leefbare_steden_en_dorpen\\R_119a.csv\n",
      "R_120a opgeslagen als: ../../../Publicatie_bestanden/Leefbare_steden_en_dorpen\\R_120a.csv\n",
      "R_121a opgeslagen als: ../../../Publicatie_bestanden/Leefbare_steden_en_dorpen\\R_121a.csv\n",
      "R_122a opgeslagen als: ../../../Publicatie_bestanden/Leefbare_steden_en_dorpen\\R_122a.csv\n",
      "R_124a opgeslagen als: ../../../Publicatie_bestanden/Leefbare_steden_en_dorpen\\R_124a.csv\n"
     ]
    }
   ],
   "source": [
    "# -----------------------------------------------------------------------------\n",
    "# Schrijf alle DataFrames weg naar de output folder\n",
    "# -----------------------------------------------------------------------------\n",
    "print(\"\\nData wegschrijven naar bestanden...\")\n",
    "output_folder = \"../../../Publicatie_bestanden/Leefbare_steden_en_dorpen\"\n",
    "for indicator, df in indicatoren_dict.items():\n",
    "    bestandspad = os.path.join(output_folder, f\"{indicator}.csv\")\n",
    "    df.to_csv(bestandspad, index=False)\n",
    "    print(f\"{indicator} opgeslagen als: {bestandspad}\")"
   ]
  }
 ],
 "metadata": {
  "kernelspec": {
   "display_name": "Python 3",
   "language": "python",
   "name": "python3"
  },
  "language_info": {
   "codemirror_mode": {
    "name": "ipython",
    "version": 3
   },
   "file_extension": ".py",
   "mimetype": "text/x-python",
   "name": "python",
   "nbconvert_exporter": "python",
   "pygments_lexer": "ipython3",
   "version": "3.13.2"
  }
 },
 "nbformat": 4,
 "nbformat_minor": 2
}
