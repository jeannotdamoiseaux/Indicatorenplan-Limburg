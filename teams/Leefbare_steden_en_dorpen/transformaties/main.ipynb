{
 "cells": [
  {
   "cell_type": "code",
   "execution_count": 10,
   "metadata": {},
   "outputs": [],
   "source": [
    "import pandas as pd\n",
    "import os\n",
    "\n",
    "# Importeer lokale modules\n",
    "from preprocessing import (\n",
    "    transformeer_woonderzoek_limburg,\n",
    "    transformeer_woonderzoek_nederland,\n",
    "    transformeer_woonderzoek_data,\n",
    "    transformeer_leefbarometer_data,\n",
    "    laad_woningtekort_data,\n",
    "    laad_data_invoerapplicatie\n",
    ")"
   ]
  },
  {
   "cell_type": "code",
   "execution_count": 11,
   "metadata": {},
   "outputs": [],
   "source": [
    "# -----------------------------------------------------------------------------\n",
    "# Instellingen en mappings\n",
    "# -----------------------------------------------------------------------------\n",
    "# Mapping van regio's\n",
    "# Dit kan later verbeterd worden door alle buurt-wijk-gem-corop-prov mappings centraal op te slaan\n",
    "\n",
    "regio_mapping = {\n",
    "    \"Nederland\": \"nl00\",\n",
    "    \"Noord-Limburg\": \"cr37\",\n",
    "    \"Midden-Limburg\": \"cr38\",\n",
    "    \"Zuid-Limburg\": \"cr39\",\n",
    "}"
   ]
  },
  {
   "cell_type": "code",
   "execution_count": 12,
   "metadata": {},
   "outputs": [],
   "source": [
    "# -----------------------------------------------------------------------------\n",
    "# Initialiseer de indicator dictionary\n",
    "# -----------------------------------------------------------------------------\n",
    "# Hierin worden indicatornamen gekoppeld aan hun corresponderende DataFrames\n",
    "\n",
    "indicatoren_dict = {}"
   ]
  },
  {
   "cell_type": "code",
   "execution_count": 13,
   "metadata": {},
   "outputs": [
    {
     "name": "stdout",
     "output_type": "stream",
     "text": [
      "Processing indicator: MO_11a\n"
     ]
    },
    {
     "name": "stderr",
     "output_type": "stream",
     "text": [
      "c:\\Users\\damoiseauxjmb\\AppData\\Local\\Programs\\Python\\Python313\\Lib\\site-packages\\openpyxl\\styles\\stylesheet.py:237: UserWarning: Workbook contains no default style, apply openpyxl's default\n",
      "  warn(\"Workbook contains no default style, apply openpyxl's default\")\n",
      "c:\\Users\\damoiseauxjmb\\AppData\\Local\\Programs\\Python\\Python313\\Lib\\site-packages\\openpyxl\\styles\\stylesheet.py:237: UserWarning: Workbook contains no default style, apply openpyxl's default\n",
      "  warn(\"Workbook contains no default style, apply openpyxl's default\")\n"
     ]
    }
   ],
   "source": [
    "# -----------------------------------------------------------------------------\n",
    "# Indicator MO_11a: Woningtekort Data\n",
    "# -----------------------------------------------------------------------------\n",
    "print(\"Processing indicator: MO_11a\")\n",
    "df_mo_11a = laad_woningtekort_data(regio_mapping)\n",
    "\n",
    "# Toevoegen aan de indicator dictionary\n",
    "indicatoren_dict[\"MO_11a\"] = df_mo_11a[[\"geoitem\", \"geolevel\", \"aantal\", \"period\"]]"
   ]
  },
  {
   "cell_type": "code",
   "execution_count": 14,
   "metadata": {},
   "outputs": [
    {
     "name": "stdout",
     "output_type": "stream",
     "text": [
      "Processing indicator: MO_11b\n"
     ]
    },
    {
     "name": "stderr",
     "output_type": "stream",
     "text": [
      "c:\\Users\\damoiseauxjmb\\AppData\\Local\\Programs\\Python\\Python313\\Lib\\site-packages\\openpyxl\\styles\\stylesheet.py:237: UserWarning: Workbook contains no default style, apply openpyxl's default\n",
      "  warn(\"Workbook contains no default style, apply openpyxl's default\")\n",
      "c:\\Users\\damoiseauxjmb\\AppData\\Local\\Programs\\Python\\Python313\\Lib\\site-packages\\openpyxl\\styles\\stylesheet.py:237: UserWarning: Workbook contains no default style, apply openpyxl's default\n",
      "  warn(\"Workbook contains no default style, apply openpyxl's default\")\n"
     ]
    }
   ],
   "source": [
    "# -----------------------------------------------------------------------------\n",
    "# Indicator MO_11b: Woononderzoek Nederland en Limburg\n",
    "# -----------------------------------------------------------------------------\n",
    "print(\"Processing indicator: MO_11b\")\n",
    "df_woonderzoek_limburg = pd.read_excel(\"../../../data/Woononderzoek_nederland/Tevreden met woning - Corop-gebieden.xlsx\")\n",
    "df_woonderzoek_nederland = pd.read_excel(\"../../../data/Woononderzoek_nederland/Tevreden met woning - Nederland.xlsx\")\n",
    "\n",
    "# Preprocessing\n",
    "df_woonderzoek_limburg_pp = transformeer_woonderzoek_limburg(df=df_woonderzoek_limburg, n_rows=5)\n",
    "df_woonderzoek_nederland_pp = transformeer_woonderzoek_nederland(df=df_woonderzoek_nederland, n_rows=5)\n",
    "\n",
    "# Column renames specifiek voor MO_11b\n",
    "column_renames_mo_11b = {\n",
    "    \"Waarde\": \"MO_11b\",\n",
    "    \"Categorie\": \"dim_tevredenheid_0\",\n",
    "}\n",
    "\n",
    "# Combineer en verwerk\n",
    "df_mo_11b = pd.concat([df_woonderzoek_limburg_pp, df_woonderzoek_nederland_pp])\n",
    "df_mo_11b = transformeer_woonderzoek_data(df_mo_11b, regio_mapping, column_renames_mo_11b)\n",
    "\n",
    "# Toevoegen aan de indicator dictionary\n",
    "indicatoren_dict[\"MO_11b\"] = df_mo_11b[[\"geoitem\", \"geolevel\", \"MO_11b\", \"dim_tevredenheid_0\", \"period\"]]\n"
   ]
  },
  {
   "cell_type": "code",
   "execution_count": 15,
   "metadata": {},
   "outputs": [
    {
     "name": "stdout",
     "output_type": "stream",
     "text": [
      "Processing indicators: MO_10a, D_39a, D_39aa\n"
     ]
    }
   ],
   "source": [
    "# -----------------------------------------------------------------------------\n",
    "# Indicator MO_10a, D_39a, D_39aa: Leefbarometer Data\n",
    "# -----------------------------------------------------------------------------\n",
    "print(\"Processing indicators: MO_10a, D_39a, D_39aa\")\n",
    "relevante_jaren = [2014, 2018, 2020, 2022]\n",
    "column_renames = {\n",
    "    \"lbm\": \"MO_10a\",\n",
    "    \"fys\": \"D_39a\",\n",
    "    \"vrz\": \"D_39aa\",\n",
    "    \"COROP_NAAM\": \"geoitem\",\n",
    "    \"jaar\": \"period\",\n",
    "}\n",
    "\n",
    "# Data verwerken\n",
    "df_leefbarometer = transformeer_leefbarometer_data(\n",
    "    input_bestand_pad=\"../../../data/Leefbarometer/Leefbaarometer-scores buurten 2002-2022.csv\",\n",
    "    bu_code_correcties_pad=\"../../../data/Buurtcodes/bu_code_correcties.xlsx\",\n",
    "    limburg_buurten_pad=\"../../../data/Buurtcodes/BU_WK_GM_codes.xls\",\n",
    "    relevante_jaren=relevante_jaren,\n",
    "    column_renames=column_renames,\n",
    "    regio_mapping=regio_mapping,\n",
    ")\n",
    "\n",
    "# Los toevoegen van indicatoren aan de dictionary\n",
    "for indicator_code in [\"MO_10a\", \"D_39a\", \"D_39aa\"]:\n",
    "    indicatoren_dict[indicator_code] = df_leefbarometer[[\"geoitem\", \"geolevel\", \"period\", indicator_code]]"
   ]
  },
  {
   "cell_type": "code",
   "execution_count": 16,
   "metadata": {},
   "outputs": [
    {
     "name": "stdout",
     "output_type": "stream",
     "text": [
      "Processing indicators: R_118a, R_119a, R_120a, R_121a, R_122a, R_124a\n"
     ]
    }
   ],
   "source": [
    "# -----------------------------------------------------------------------------\n",
    "# Indicators R_118a, R_119a, R_120a, R_121a, R_122a, R_124a: Data Invoerapplicatie\n",
    "# -----------------------------------------------------------------------------\n",
    "print(\"Processing indicators: R_118a, R_119a, R_120a, R_121a, R_122a, R_124a\")\n",
    "df_invoerapplicatie = laad_data_invoerapplicatie(\n",
    "    bron_bestand=\"../../../data/Invoerapplicatie/Invoerapplicatie Leefbare steden en dorpen.xlsx\"\n",
    ")\n",
    "\n",
    "# Los toevoegen van indicatoren aan de dictionary\n",
    "for indicator_code in [\"R_118a\", \"R_119a\", \"R_120a\", \"R_121a\", \"R_122a\", \"R_124a\"]:\n",
    "    indicatoren_dict[indicator_code] = df_invoerapplicatie[[\"geoitem\", \"geolevel\", indicator_code]]\n"
   ]
  },
  {
   "cell_type": "code",
   "execution_count": null,
   "metadata": {},
   "outputs": [
    {
     "name": "stdout",
     "output_type": "stream",
     "text": [
      "\n",
      "Controle van indicator dictionary:\n",
      "Indicator: MO_11a, bevat een DataFrame met shape: (21, 4)\n",
      "Indicator: MO_11b, bevat een DataFrame met shape: (95, 5)\n",
      "Indicator: MO_10a, bevat een DataFrame met shape: (12, 4)\n",
      "Indicator: D_39a, bevat een DataFrame met shape: (12, 4)\n",
      "Indicator: D_39aa, bevat een DataFrame met shape: (12, 4)\n",
      "Indicator: R_118a, bevat een DataFrame met shape: (1, 3)\n",
      "Indicator: R_119a, bevat een DataFrame met shape: (1, 3)\n",
      "Indicator: R_120a, bevat een DataFrame met shape: (1, 3)\n",
      "Indicator: R_121a, bevat een DataFrame met shape: (1, 3)\n",
      "Indicator: R_122a, bevat een DataFrame met shape: (1, 3)\n",
      "Indicator: R_124a, bevat een DataFrame met shape: (1, 3)\n"
     ]
    }
   ],
   "source": [
    "# -----------------------------------------------------------------------------\n",
    "# Controleer de inhoud van de dictionary\n",
    "# -----------------------------------------------------------------------------\n",
    "print(\"\\nControle van indicator dictionary:\")\n",
    "for key, value in indicatoren_dict.items():\n",
    "    if isinstance(value, pd.DataFrame):\n",
    "        print(f\"Indicator {key}, bevat een DataFrame met shape: {value.shape}\")\n",
    "    else:\n",
    "        print(f\"Waarschuwing: Indicator {key} bevat geen geldig DataFrame\")"
   ]
  },
  {
   "cell_type": "code",
   "execution_count": 18,
   "metadata": {},
   "outputs": [
    {
     "name": "stdout",
     "output_type": "stream",
     "text": [
      "\n",
      "Data wegschrijven naar bestanden...\n",
      "MO_11a opgeslagen als: ../../../Publicatie_bestanden/Leefbare_steden_en_dorpen\\MO_11a.csv\n",
      "MO_11b opgeslagen als: ../../../Publicatie_bestanden/Leefbare_steden_en_dorpen\\MO_11b.csv\n",
      "MO_10a opgeslagen als: ../../../Publicatie_bestanden/Leefbare_steden_en_dorpen\\MO_10a.csv\n",
      "D_39a opgeslagen als: ../../../Publicatie_bestanden/Leefbare_steden_en_dorpen\\D_39a.csv\n",
      "D_39aa opgeslagen als: ../../../Publicatie_bestanden/Leefbare_steden_en_dorpen\\D_39aa.csv\n",
      "R_118a opgeslagen als: ../../../Publicatie_bestanden/Leefbare_steden_en_dorpen\\R_118a.csv\n",
      "R_119a opgeslagen als: ../../../Publicatie_bestanden/Leefbare_steden_en_dorpen\\R_119a.csv\n",
      "R_120a opgeslagen als: ../../../Publicatie_bestanden/Leefbare_steden_en_dorpen\\R_120a.csv\n",
      "R_121a opgeslagen als: ../../../Publicatie_bestanden/Leefbare_steden_en_dorpen\\R_121a.csv\n",
      "R_122a opgeslagen als: ../../../Publicatie_bestanden/Leefbare_steden_en_dorpen\\R_122a.csv\n",
      "R_124a opgeslagen als: ../../../Publicatie_bestanden/Leefbare_steden_en_dorpen\\R_124a.csv\n"
     ]
    }
   ],
   "source": [
    "# -----------------------------------------------------------------------------\n",
    "# Schrijf alle DataFrames weg naar de output folder\n",
    "# -----------------------------------------------------------------------------\n",
    "print(\"\\nData wegschrijven naar bestanden...\")\n",
    "output_folder = \"../../../Publicatie_bestanden/Leefbare_steden_en_dorpen\"\n",
    "for indicator, df in indicatoren_dict.items():\n",
    "    bestandspad = os.path.join(output_folder, f\"{indicator}.csv\")\n",
    "    df.to_csv(bestandspad, index=False)\n",
    "    print(f\"{indicator} opgeslagen als: {bestandspad}\")"
   ]
  }
 ],
 "metadata": {
  "kernelspec": {
   "display_name": "Python 3",
   "language": "python",
   "name": "python3"
  },
  "language_info": {
   "codemirror_mode": {
    "name": "ipython",
    "version": 3
   },
   "file_extension": ".py",
   "mimetype": "text/x-python",
   "name": "python",
   "nbconvert_exporter": "python",
   "pygments_lexer": "ipython3",
   "version": "3.13.2"
  }
 },
 "nbformat": 4,
 "nbformat_minor": 2
}
